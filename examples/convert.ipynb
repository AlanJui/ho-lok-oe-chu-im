{
 "cells": [
  {
   "cell_type": "code",
   "execution_count": 32,
   "id": "7e8f6711-31a7-42a5-bfb6-db8410007766",
   "metadata": {},
   "outputs": [],
   "source": [
    "import xlwings as xw\n",
    "import re\n",
    "\n",
    "file_path = ('Han-Ggi.xlsx')\n",
    "wb = xw.Book(file_path)"
   ]
  },
  {
   "cell_type": "code",
   "execution_count": 33,
   "metadata": {},
   "outputs": [
    {
     "name": "stdout",
     "output_type": "stream",
     "text": [
      "end_row = 344\n"
     ]
    }
   ],
   "source": [
    "source_sheet = wb.sheets['han-jji_zu-im_table']\n",
    "\n",
    "end_row = source_sheet.range('A' + str(source_sheet.cells.last_cell.row)).end('up').row\n",
    "print(f'end_row = {end_row}')\n"
   ]
  },
  {
   "cell_type": "code",
   "execution_count": 39,
   "metadata": {},
   "outputs": [],
   "source": [
    "\n",
    "row = 1     # index for source sheet\n",
    "i = 1       # index for target sheet\n",
    "\n",
    "while row < end_row:\n",
    "    # Read data from source_sheet \n",
    "    han_jji = str(source_sheet.range('A' + str(row)).value)\n",
    "    han_jji.strip()\n",
    "    \n",
    "    zu_im   = str(source_sheet.range('B' + str(row)).value)\n",
    "    zu_im.strip()\n",
    "    \n",
    "    #-----------------------------------------------------\n",
    "    # 將字串中已有的編號去除\n",
    "    # 原文： 1. 昔時賢文，誨汝諄諄\n",
    "    # 轉換： 昔時賢文，誨汝諄諄\n",
    "    searchObj = re.search( r'(.*) (.*)', han_jji, re.M|re.I)\n",
    "    if searchObj:\n",
    "        # 有編號存在字中開頭處 \n",
    "        pure_jji = searchObj.group(2)\n",
    "    else:\n",
    "        # 字串的開頭處沒有編號\n",
    "        pure_jji = han_jji\n",
    "\n",
    "    if pure_jji.count('。') == 0:\n",
    "        pure_jji += '。'\n",
    "\n",
    "    #-----------------------------------------------------\n",
    "    # 將字串轉換成 List\n",
    "    # Python code to convert string to list character-wise\n",
    "    def Convert(string):\n",
    "        list1=[]\n",
    "        list1[:0]=string\n",
    "        return list1\n",
    "\n",
    "    han_jji_list = Convert(pure_jji)\n",
    "\n",
    "    #-----------------------------------------------------\n",
    "    # pattern = r'\\W+[-+ˇˊˋ]' \n",
    "    # zu_im_list = re.split(pattern, zu_im)\n",
    "    zu_im_list = zu_im.split()\n",
    "\n",
    "    im_un_list = []\n",
    "    j = 0\n",
    "    for jji in han_jji_list:\n",
    "        if jji == '，' or jji == '；' or jji == '。':\n",
    "            im_un_list += [' ']\n",
    "            continue\n",
    "        else:\n",
    "            im_un_list += [zu_im_list[j]]\n",
    "        j += 1 \n",
    "\n",
    "    #=========================================\n",
    "    # Write to target cell\n",
    "    #=========================================\n",
    "    sheet = wb.sheets['工作表1']\n",
    "    sheet.range('A' + str(i)).options(transpose=True).value = han_jji_list\n",
    "    sheet.range('B' + str(i)).options(transpose=True).value = im_un_list\n",
    "    \n",
    "    i += len(han_jji_list) \n",
    "    row += 1"
   ]
  }
 ],
 "metadata": {
  "kernelspec": {
   "display_name": "Python 3.10.0 64-bit ('excel-3.10.0')",
   "language": "python",
   "name": "python3"
  },
  "language_info": {
   "codemirror_mode": {
    "name": "ipython",
    "version": 3
   },
   "file_extension": ".py",
   "mimetype": "text/x-python",
   "name": "python",
   "nbconvert_exporter": "python",
   "pygments_lexer": "ipython3",
   "version": "3.10.0"
  },
  "orig_nbformat": 4,
  "vscode": {
   "interpreter": {
    "hash": "1b569b8cb82cc0b4d93e64a81a8088d32bbb20998db3215c562e2469512179e8"
   }
  }
 },
 "nbformat": 4,
 "nbformat_minor": 2
}
