{
 "cells": [
  {
   "cell_type": "code",
   "execution_count": 16,
   "metadata": {},
   "outputs": [
    {
     "name": "stdout",
     "output_type": "stream",
     "text": [
      "end_row = 81\n"
     ]
    }
   ],
   "source": [
    "#coding=utf-8\n",
    "import xlwings as xw\n",
    "import re\n",
    "import pandas as pd\n",
    "import psycopg2\n",
    "from modules.my_libs import han_ji_chu_im as ji\n",
    "\n",
    "#==========================================================\n",
    "# Excel 檔案\n",
    "#==========================================================\n",
    "file_path = ('to-tek-keng.xlsx')\n",
    "wb = xw.Book(file_path)\n",
    "\n",
    "# source_sheet = wb.sheets['ji-im-tui-chiau']\n",
    "source_sheet = wb.sheets['工作表1']\n",
    "end_row = source_sheet.range('A' + str(source_sheet.cells.last_cell.row)).end('up').row\n",
    "print(f'end_row = {end_row}')\n",
    "\n",
    "#-----------------------------------------------------\n",
    "ji_khoo_sheet  = wb.sheets.add(name=\"字庫表\")\n",
    "khiam_ji_sheet  = wb.sheets.add(name=\"缺字表\")\n",
    "chu_im_sheet = wb.sheets.add(name=\"漢字注音表\")\n",
    "\n",
    "#==========================================================\n",
    "# 資料庫\n",
    "#==========================================================\n",
    "conn = psycopg2.connect(database=\"alanjui\", user=\"alanjui\", host=\"127.0.0.1\", port=\"5432\")\n",
    "cur = conn.cursor()"
   ]
  },
  {
   "cell_type": "code",
   "execution_count": 17,
   "metadata": {},
   "outputs": [
    {
     "name": "stdout",
     "output_type": "stream",
     "text": [
      "Can not find 【埏】in Han-Ji-Khoo!!\n",
      "Can not find 【埴】in Han-Ji-Khoo!!\n",
      "Can not find 【楗】in Han-Ji-Khoo!!\n",
      "Can not find 【琭】in Han-Ji-Khoo!!\n",
      "Can not find 【琭】in Han-Ji-Khoo!!\n"
     ]
    },
    {
     "ename": "ValueError",
     "evalue": "'oenn' is not in list",
     "output_type": "error",
     "traceback": [
      "\u001b[0;31m---------------------------------------------------------------------------\u001b[0m",
      "\u001b[0;31mValueError\u001b[0m                                Traceback (most recent call last)",
      "\u001b[1;32m/Users/alanjui/workspace/rime/ho-lok-oe-chu-im/p110.ipynb Cell 2\u001b[0m in \u001b[0;36m<cell line: 5>\u001b[0;34m()\u001b[0m\n\u001b[1;32m     <a href='vscode-notebook-cell:/Users/alanjui/workspace/rime/ho-lok-oe-chu-im/p110.ipynb#W1sZmlsZQ%3D%3D?line=59'>60</a>\u001b[0m \u001b[39mif\u001b[39;00m siann_bu \u001b[39m!=\u001b[39m \u001b[39m\"\u001b[39m\u001b[39m\"\u001b[39m:\n\u001b[1;32m     <a href='vscode-notebook-cell:/Users/alanjui/workspace/rime/ho-lok-oe-chu-im/p110.ipynb#W1sZmlsZQ%3D%3D?line=60'>61</a>\u001b[0m     siann_code \u001b[39m=\u001b[39m ji\u001b[39m.\u001b[39mget_siann_idx(siann_bu)\n\u001b[0;32m---> <a href='vscode-notebook-cell:/Users/alanjui/workspace/rime/ho-lok-oe-chu-im/p110.ipynb#W1sZmlsZQ%3D%3D?line=61'>62</a>\u001b[0m un_code \u001b[39m=\u001b[39m ji\u001b[39m.\u001b[39;49mget_un_idx(un_bu)\n\u001b[1;32m     <a href='vscode-notebook-cell:/Users/alanjui/workspace/rime/ho-lok-oe-chu-im/p110.ipynb#W1sZmlsZQ%3D%3D?line=63'>64</a>\u001b[0m \u001b[39m#=========================================================\u001b[39;00m\n\u001b[1;32m     <a href='vscode-notebook-cell:/Users/alanjui/workspace/rime/ho-lok-oe-chu-im/p110.ipynb#W1sZmlsZQ%3D%3D?line=64'>65</a>\u001b[0m \u001b[39m# 將已注音之漢字加入【漢字注音表】\u001b[39;00m\n\u001b[1;32m     <a href='vscode-notebook-cell:/Users/alanjui/workspace/rime/ho-lok-oe-chu-im/p110.ipynb#W1sZmlsZQ%3D%3D?line=65'>66</a>\u001b[0m \u001b[39m#=========================================================\u001b[39;00m\n\u001b[1;32m     <a href='vscode-notebook-cell:/Users/alanjui/workspace/rime/ho-lok-oe-chu-im/p110.ipynb#W1sZmlsZQ%3D%3D?line=66'>67</a>\u001b[0m chu_im_sheet\u001b[39m.\u001b[39mrange(\u001b[39m'\u001b[39m\u001b[39mB\u001b[39m\u001b[39m'\u001b[39m \u001b[39m+\u001b[39m \u001b[39mstr\u001b[39m(i))\u001b[39m.\u001b[39mvalue \u001b[39m=\u001b[39m chu_im\n",
      "File \u001b[0;32m~/workspace/rime/ho-lok-oe-chu-im/modules/my_libs/han_ji_chu_im.py:67\u001b[0m, in \u001b[0;36mget_un_idx\u001b[0;34m(un_bu)\u001b[0m\n\u001b[1;32m     66\u001b[0m \u001b[39mdef\u001b[39;00m \u001b[39mget_un_idx\u001b[39m(un_bu):\n\u001b[0;32m---> 67\u001b[0m     un_idx \u001b[39m=\u001b[39m un_list\u001b[39m.\u001b[39;49mindex(un_bu)\n\u001b[1;32m     68\u001b[0m     \u001b[39mreturn\u001b[39;00m un_idx\n",
      "\u001b[0;31mValueError\u001b[0m: 'oenn' is not in list"
     ]
    }
   ],
   "source": [
    "row = 1     # index for source sheet\n",
    "chu_im_index = 1\n",
    "khiam_ji_index = 1\n",
    "\n",
    "while row < end_row:\n",
    "    # 自 source_sheet 取待注音漢字\n",
    "    han_ji = str(source_sheet.range('A' + str(row)).value)\n",
    "    han_ji.strip()\n",
    "    \n",
    "    #=========================================================\n",
    "    # 將【整段】讀入的漢字，轉成：每個儲存格，放一個漢字\n",
    "    #=========================================================\n",
    "    han_ji_list = ji.convert_string_to_list(han_ji)\n",
    "    \n",
    "    chu_im_sheet.range('A' + str(chu_im_index)) \\\n",
    "                .options(transpose=True).value = han_ji_list\n",
    "    row += 1\n",
    "\n",
    "    #=========================================================\n",
    "    # 將漢字加注音\n",
    "    #=========================================================\n",
    "    i = chu_im_index\n",
    "    # 取用每一個漢字，自【字庫】資料庫查找其【注音碼】\n",
    "    for search_han_ji in han_ji_list:\n",
    "        # 若取出之字為標點符號，則跳過，並繼續取下一個漢字。\n",
    "        # searchObj = re.search( r'[，、；。？！（）-「」【】《》“]', search_han_ji, re.M|re.I)\n",
    "        searchObj = re.search( r'[，、：；。？！（）「」【】《》“]', search_han_ji, re.M|re.I)\n",
    "        if searchObj:\n",
    "            i += 1\n",
    "            continue\n",
    "        \n",
    "        # SQL 查詢指令：自字庫查找某漢字之注音碼\n",
    "        #sql = f\"select id, han_ji, chu_im, freq, siann, un, tiau from han_ji where han_ji='{search_han_ji}'\"\n",
    "        sql = \"SELECT id, han_ji, chu_im, freq, siann, un, tiau \"\\\n",
    "                \"FROM han_ji \"\\\n",
    "                f\"WHERE han_ji='{search_han_ji}' \"\n",
    "        cur.execute(sql)\n",
    "        query_rows = cur.fetchall()\n",
    "        \n",
    "        # 判斷是否發生：找不到漢字注音碼的問題\n",
    "        if not query_rows:\n",
    "            print(f\"Can not find 【{search_han_ji}】in Han-Ji-Khoo!!\")\n",
    "            khiam_ji_sheet.range('A' + str(khiam_ji_index)).value = search_han_ji\n",
    "            khiam_ji_index += 1\n",
    "            i += 1\n",
    "            continue\n",
    " \n",
    "        # 將已找到注音碼的漢字，分解出：聲母、韻母、調號\n",
    "        chu_im = query_rows[0][2]\n",
    "        chu_im_code = ji.split_chu_im(chu_im)\n",
    "        if chu_im_code[0] == \"q\":\n",
    "            siann_bu = \"\"\n",
    "        else:\n",
    "            siann_bu = chu_im_code[0]\n",
    "        un_bu = chu_im_code[1]\n",
    "        tiau_ho = chu_im_code[2]\n",
    "        \n",
    "        # 取得聲母之聲母碼；及取得韻母之韻母碼；以利後續轉換：十五音、方音符號、\n",
    "        # 白話字、羅馬拼音、閩拼時使用。\n",
    "        if siann_bu != \"\":\n",
    "            siann_code = ji.get_siann_idx(siann_bu)\n",
    "        un_code = ji.get_un_idx(un_bu)\n",
    "        \n",
    "        #=========================================================\n",
    "        # 將已注音之漢字加入【漢字注音表】\n",
    "        #=========================================================\n",
    "        chu_im_sheet.range('B' + str(i)).value = chu_im\n",
    "        chu_im_sheet.range('C' + str(i)).value = siann_bu\n",
    "        chu_im_sheet.range('D' + str(i)).value = un_bu\n",
    "        chu_im_sheet.range('E' + str(i)).value = tiau_ho\n",
    "        \n",
    "        i += 1\n",
    "\n",
    "        #=========================================================\n",
    "        # 將已注音之漢字加入【字庫表】\n",
    "        #=========================================================\n",
    "\n",
    "    #=========================================================\n",
    "    # 調整讀取來源；寫入標的各手標\n",
    "    #=========================================================\n",
    "    chu_im_index += len(han_ji_list)\n",
    "    row += 1"
   ]
  },
  {
   "cell_type": "code",
   "execution_count": null,
   "metadata": {},
   "outputs": [],
   "source": [
    "#==========================================================\n",
    "# 關閉資料庫\n",
    "#==========================================================\n",
    "conn.close()"
   ]
  }
 ],
 "metadata": {
  "kernelspec": {
   "display_name": "Python 3.10.0 64-bit ('excel-3.10.0')",
   "language": "python",
   "name": "python3"
  },
  "language_info": {
   "codemirror_mode": {
    "name": "ipython",
    "version": 3
   },
   "file_extension": ".py",
   "mimetype": "text/x-python",
   "name": "python",
   "nbconvert_exporter": "python",
   "pygments_lexer": "ipython3",
   "version": "3.10.0"
  },
  "orig_nbformat": 4,
  "vscode": {
   "interpreter": {
    "hash": "1b569b8cb82cc0b4d93e64a81a8088d32bbb20998db3215c562e2469512179e8"
   }
  }
 },
 "nbformat": 4,
 "nbformat_minor": 2
}
