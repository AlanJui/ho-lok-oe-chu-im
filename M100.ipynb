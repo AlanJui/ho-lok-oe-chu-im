{
 "cells": [
  {
   "cell_type": "code",
   "execution_count": 6,
   "metadata": {},
   "outputs": [
    {
     "name": "stdout",
     "output_type": "stream",
     "text": [
      "source_rows = 11\n"
     ]
    }
   ],
   "source": [
    "#==========================================================\n",
    "# 匯入純文字\n",
    "#==========================================================\n",
    "%run ./p01_import_source_data.ipynb"
   ]
  },
  {
   "cell_type": "code",
   "execution_count": 7,
   "metadata": {},
   "outputs": [
    {
     "name": "stdout",
     "output_type": "stream",
     "text": [
      "end_row = 11\n",
      "row = 1\n",
      "row = 2\n",
      "row = 3\n",
      "row = 4\n",
      "row = 5\n",
      "row = 6\n",
      "row = 7\n",
      "row = 8\n",
      "row = 9\n",
      "row = 10\n",
      "row = 11\n"
     ]
    }
   ],
   "source": [
    "#==========================================================\n",
    "# 針對每個漢字查注音碼\n",
    "#==========================================================\n",
    "%run ./p100_cha_ji_tian.ipynb"
   ]
  },
  {
   "cell_type": "code",
   "execution_count": 8,
   "metadata": {},
   "outputs": [
    {
     "name": "stdout",
     "output_type": "stream",
     "text": [
      "end_row = 75\n"
     ]
    }
   ],
   "source": [
    "#==========================================================\n",
    "# 輸出可供網頁使用的 HTML with Ruby Tags\n",
    "#==========================================================\n",
    "%run ./p210_hoo_goa_chu_im_all.ipynb"
   ]
  }
 ],
 "metadata": {
  "kernelspec": {
   "display_name": "Python 3.10.0 64-bit ('excel-3.10.0')",
   "language": "python",
   "name": "python3"
  },
  "language_info": {
   "codemirror_mode": {
    "name": "ipython",
    "version": 3
   },
   "file_extension": ".py",
   "mimetype": "text/x-python",
   "name": "python",
   "nbconvert_exporter": "python",
   "pygments_lexer": "ipython3",
   "version": "3.10.0"
  },
  "orig_nbformat": 4,
  "vscode": {
   "interpreter": {
    "hash": "1b569b8cb82cc0b4d93e64a81a8088d32bbb20998db3215c562e2469512179e8"
   }
  }
 },
 "nbformat": 4,
 "nbformat_minor": 2
}
