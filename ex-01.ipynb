{
 "cells": [
  {
   "cell_type": "code",
   "execution_count": 23,
   "id": "126858c9-d557-4672-8f46-b67df5a498f7",
   "metadata": {},
   "outputs": [
    {
     "name": "stdout",
     "output_type": "stream",
     "text": [
      "han_ggi = 昔時賢文，誨汝諄諄。\n",
      "searchObj.group() :  1. 昔時賢文，誨汝諄諄\n",
      "searchObj.group(1) :  1.\n",
      "searchObj.group(2) :  昔時賢文，誨汝諄諄\n"
     ]
    }
   ],
   "source": [
    "import re\n",
    "\n",
    "line = '1. 昔時賢文，誨汝諄諄';\n",
    " \n",
    "searchObj = re.search( r'(.*) (.*)', line, re.M|re.I)\n",
    "han_ggi = searchObj.group(2)\n",
    "han_ggi += '。'\n",
    "print(f'han_ggi = {han_ggi}')\n",
    " \n",
    "if searchObj:\n",
    "   print(\"searchObj.group() : \", searchObj.group())\n",
    "   print(\"searchObj.group(1) : \", searchObj.group(1))\n",
    "   print(\"searchObj.group(2) : \", searchObj.group(2))\n",
    "else:\n",
    "   print(\"Nothing found!!\")\n",
    "#----------------------------------------------"
   ]
  },
  {
   "cell_type": "code",
   "execution_count": 27,
   "id": "959cac52",
   "metadata": {},
   "outputs": [
    {
     "name": "stdout",
     "output_type": "stream",
     "text": [
      "['昔', '時', '賢', '文', '，', '誨', '汝', '諄', '諄', '。']\n"
     ]
    }
   ],
   "source": [
    "# Python code to convert string to list character-wise\n",
    "def Convert(string):\n",
    "    list1=[]\n",
    "    list1[:0]=string\n",
    "    return list1\n",
    "# Driver code\n",
    "# str1=\"ABCD\"\n",
    "han_ggi_list = Convert(han_ggi)\n",
    "print(Convert(han_ggi_list))"
   ]
  },
  {
   "cell_type": "code",
   "execution_count": 24,
   "id": "43cce7a2",
   "metadata": {},
   "outputs": [
    {
     "name": "stdout",
     "output_type": "stream",
     "text": [
      "['ㄒㄧㄝㄍ', ' ㄒㄧ', ' ㄏㄝㄣ', ' ㄅ。ㄨㄣ', '']\n",
      "['ㄏㄨㄝ', ' ㄗ。ㄨ', ' ㄉㄨㄣ', ' ㄉㄨㄣ', '']\n",
      "['ㄒㄧㄝㄍ', ' ㄒㄧ', ' ㄏㄝㄣ', ' ㄅ。ㄨㄣ', '', 'ㄏㄨㄝ', ' ㄗ。ㄨ', ' ㄉㄨㄣ', ' ㄉㄨㄣ', '']\n"
     ]
    }
   ],
   "source": [
    "pattern = re.compile(r'[-+ˇˊˋ]')   # 查找数字\n",
    "\n",
    "line1 = 'ㄒㄧㄝㄍ- ㄒㄧˊ ㄏㄝㄣ+ ㄅ。ㄨㄣˊ'\n",
    "line2 = 'ㄏㄨㄝˋ ㄗ。ㄨˋ ㄉㄨㄣ+ ㄉㄨㄣ-'\n",
    "\n",
    "result1 = pattern.split(line1)\n",
    "result2 = pattern.split(line2)\n",
    "huat_ing = result1 + result2 \n",
    " \n",
    "print(result1)\n",
    "print(result2)\n",
    "print(huat_ing)"
   ]
  },
  {
   "cell_type": "code",
   "execution_count": 25,
   "id": "7e8f6711-31a7-42a5-bfb6-db8410007766",
   "metadata": {},
   "outputs": [],
   "source": [
    "import xlwings as xw\n",
    "\n",
    "file_path = ('Han-Ggi.xlsx')\n",
    "wb = xw.Book(file_path)"
   ]
  },
  {
   "cell_type": "code",
   "execution_count": 26,
   "id": "9d8c814c-9ebb-445b-b463-2310a516b2d1",
   "metadata": {},
   "outputs": [],
   "source": [
    "sheet = wb.sheets['工作表1']\n",
    "\n",
    "sheet.range('A1').options(transpose=True).value = han_ggi_list\n",
    "sheet.range('B1').options(transpose=True).value = huat_ing"
   ]
  }
 ],
 "metadata": {
  "kernelspec": {
   "display_name": "Python 3.10.0 64-bit ('excel-3.10.0')",
   "language": "python",
   "name": "python3"
  },
  "language_info": {
   "codemirror_mode": {
    "name": "ipython",
    "version": 3
   },
   "file_extension": ".py",
   "mimetype": "text/x-python",
   "name": "python",
   "nbconvert_exporter": "python",
   "pygments_lexer": "ipython3",
   "version": "3.10.0"
  },
  "vscode": {
   "interpreter": {
    "hash": "1b569b8cb82cc0b4d93e64a81a8088d32bbb20998db3215c562e2469512179e8"
   }
  }
 },
 "nbformat": 4,
 "nbformat_minor": 5
}
