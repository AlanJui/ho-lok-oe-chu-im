{
 "cells": [
  {
   "cell_type": "code",
   "execution_count": 1,
   "metadata": {},
   "outputs": [],
   "source": [
    "#coding=utf-8\n",
    "import xlwings as xw\n",
    "# 打開活頁簿檔案\n",
    "file_path = ('Han-Ggi.xlsx')\n",
    "wb = xw.Book(file_path)"
   ]
  },
  {
   "cell_type": "code",
   "execution_count": 2,
   "metadata": {},
   "outputs": [
    {
     "name": "stdout",
     "output_type": "stream",
     "text": [
      "row_num = 1399\n"
     ]
    }
   ],
   "source": [
    "source_sheet = wb.sheets['source_data']\n",
    "\n",
    "row_num = source_sheet.range('A' + str(wb.sheets[0].cells.last_cell.row)).end('up').row\n",
    "print(f'row_num = {row_num}')\n",
    "\n",
    "# row_num = wb.sheets[0].range('A1').end('down').row\n",
    "# print(f'row_num = {row_num}')"
   ]
  },
  {
   "cell_type": "code",
   "execution_count": 3,
   "metadata": {},
   "outputs": [],
   "source": [
    "sheet = wb.sheets['工作表1']\n",
    "\n",
    "row_content = []\n",
    "start_row = 1\n",
    "end_row = row_num\n",
    "row = 1\n",
    "i = 1  # index for source_data sheet\n",
    "\n",
    "while row < end_row:\n",
    "    # Read data from source_sheet \n",
    "    han_jji  = str(source_sheet.range('A' + str(row)).value)\n",
    "    ze_1 = han_jji.count('，')\n",
    "    ze_2 = han_jji.count('；')\n",
    "    gu = han_jji.count('。')\n",
    "    if gu == 0:\n",
    "        duan = ze_1 + ze_2 + 1\n",
    "    else:\n",
    "        duan = ze_1 + ze_2 \n",
    "    row += 1\n",
    "\n",
    "    zu_im = \"\"\n",
    "    for j in range(0, duan):\n",
    "        buffer = str(source_sheet.range('A' + str(row)).value)\n",
    "        buffer.strip()\n",
    "        zu_im += (buffer + ' ') \n",
    "        row += 1\n",
    "    row += 1\n",
    "    \n",
    "    # Write to target cell\n",
    "    sheet.range('A' + str(i)).value = han_jji \n",
    "    sheet.range('B' + str(i)).value = zu_im \n",
    "    i += 1\n",
    "  "
   ]
  }
 ],
 "metadata": {
  "kernelspec": {
   "display_name": "Python 3.10.0 64-bit ('excel-3.10.0')",
   "language": "python",
   "name": "python3"
  },
  "language_info": {
   "codemirror_mode": {
    "name": "ipython",
    "version": 3
   },
   "file_extension": ".py",
   "mimetype": "text/x-python",
   "name": "python",
   "nbconvert_exporter": "python",
   "pygments_lexer": "ipython3",
   "version": "3.10.0"
  },
  "orig_nbformat": 4,
  "vscode": {
   "interpreter": {
    "hash": "1b569b8cb82cc0b4d93e64a81a8088d32bbb20998db3215c562e2469512179e8"
   }
  }
 },
 "nbformat": 4,
 "nbformat_minor": 2
}
