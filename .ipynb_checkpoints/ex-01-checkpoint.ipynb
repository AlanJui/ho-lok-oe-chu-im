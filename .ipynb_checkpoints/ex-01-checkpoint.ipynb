{
 "cells": [
  {
   "cell_type": "code",
   "execution_count": 1,
   "id": "a12fba9a-bc7f-4cb2-b00e-bf2c7891d392",
   "metadata": {},
   "outputs": [],
   "source": []
  },
  {
   "cell_type": "code",
   "execution_count": 1,
   "id": "126858c9-d557-4672-8f46-b67df5a498f7",
   "metadata": {},
   "outputs": [
    {
     "name": "stdout",
     "output_type": "stream",
     "text": [
      "['ㄒㄧㄝㄍ', ' ㄒㄧ', ' ㄏㄝㄣ', ' ㄅ。ㄨㄣ', '']\n",
      "['ㄏㄨㄝ', ' ㄗ。ㄨ', ' ㄉㄨㄣ', ' ㄉㄨㄣ', '']\n"
     ]
    }
   ],
   "source": [
    "import re\n",
    "\n",
    "pattern = re.compile(r'[-+ˇˊˋ]')   # 查找数字\n",
    "\n",
    "#----------------------------------------------\n",
    "line1 = 'ㄒㄧㄝㄍ- ㄒㄧˊ ㄏㄝㄣ+ ㄅ。ㄨㄣˊ'\n",
    "line2 = 'ㄏㄨㄝˋ ㄗ。ㄨˋ ㄉㄨㄣ+ ㄉㄨㄣ-'\n",
    "\n",
    "result1 = pattern.split(line1)\n",
    "result2 = pattern.split(line2)\n",
    " \n",
    "print(result1)\n",
    "print(result2)\n"
   ]
  },
  {
   "cell_type": "code",
   "execution_count": 7,
   "id": "7e8f6711-31a7-42a5-bfb6-db8410007766",
   "metadata": {},
   "outputs": [],
   "source": [
    "import xlwings as xw\n",
    "\n",
    "file_path = ('Han-Ggi.xlsx')\n",
    "wb = xw.Book(file_path)"
   ]
  },
  {
   "cell_type": "code",
   "execution_count": 13,
   "id": "4dd716d4-b4c8-4fb9-a35c-347551138645",
   "metadata": {},
   "outputs": [
    {
     "ename": "NameError",
     "evalue": "name 'Range' is not defined",
     "output_type": "error",
     "traceback": [
      "\u001b[0;31m---------------------------------------------------------------------------\u001b[0m",
      "\u001b[0;31mNameError\u001b[0m                                 Traceback (most recent call last)",
      "Input \u001b[0;32mIn [13]\u001b[0m, in \u001b[0;36m<cell line: 5>\u001b[0;34m()\u001b[0m\n\u001b[1;32m      2\u001b[0m l \u001b[38;5;241m=\u001b[39m [\u001b[38;5;241m8\u001b[39m,\u001b[38;5;241m7\u001b[39m,\u001b[38;5;241m6\u001b[39m,\u001b[38;5;241m5\u001b[39m,\u001b[38;5;241m4\u001b[39m,\u001b[38;5;241m3\u001b[39m,\u001b[38;5;241m2\u001b[39m,\u001b[38;5;241m1\u001b[39m]\n\u001b[1;32m      4\u001b[0m i \u001b[38;5;241m=\u001b[39m \u001b[38;5;241m0\u001b[39m\n\u001b[0;32m----> 5\u001b[0m \u001b[38;5;28;01mfor\u001b[39;00m cell \u001b[38;5;129;01min\u001b[39;00m \u001b[43mRange\u001b[49m(sh, (\u001b[38;5;241m3\u001b[39m,\u001b[38;5;241m2\u001b[39m),(\u001b[38;5;241m10\u001b[39m,\u001b[38;5;241m2\u001b[39m)):\n\u001b[1;32m      6\u001b[0m     cell\u001b[38;5;241m.\u001b[39mvalue \u001b[38;5;241m=\u001b[39m l[i]\n\u001b[1;32m      7\u001b[0m     i \u001b[38;5;241m+\u001b[39m\u001b[38;5;241m=\u001b[39m \u001b[38;5;241m1\u001b[39m\n",
      "\u001b[0;31mNameError\u001b[0m: name 'Range' is not defined"
     ]
    }
   ],
   "source": [
    "# sh = '工作表1'\n",
    "sheet = wb.sheets[0]\n",
    "\n",
    "sheet.range('A1') = 1"
   ]
  },
  {
   "cell_type": "code",
   "execution_count": 15,
   "id": "c0df02d0-7691-4063-8c8c-ed9f181e65d7",
   "metadata": {},
   "outputs": [
    {
     "ename": "NameError",
     "evalue": "name 'Range' is not defined",
     "output_type": "error",
     "traceback": [
      "\u001b[0;31m---------------------------------------------------------------------------\u001b[0m",
      "\u001b[0;31mNameError\u001b[0m                                 Traceback (most recent call last)",
      "Input \u001b[0;32mIn [15]\u001b[0m, in \u001b[0;36m<cell line: 1>\u001b[0;34m()\u001b[0m\n\u001b[1;32m      1\u001b[0m \u001b[38;5;28;01mfor\u001b[39;00m x \u001b[38;5;129;01min\u001b[39;00m \u001b[38;5;28mrange\u001b[39m(\u001b[38;5;241m1\u001b[39m, \u001b[38;5;241m11\u001b[39m): \u001b[38;5;66;03m#loop through a range\u001b[39;00m\n\u001b[0;32m----> 2\u001b[0m     \u001b[38;5;28;01mif\u001b[39;00m \u001b[43mRange\u001b[49m(\u001b[38;5;124m'\u001b[39m\u001b[38;5;124mA\u001b[39m\u001b[38;5;124m'\u001b[39m \u001b[38;5;241m+\u001b[39m \u001b[38;5;28mstr\u001b[39m(x))\u001b[38;5;241m.\u001b[39mvalue \u001b[38;5;241m==\u001b[39m \u001b[38;5;241m5\u001b[39m: \u001b[38;5;66;03m#to match your own criterion\u001b[39;00m\n\u001b[1;32m      3\u001b[0m         Range(\u001b[38;5;124m'\u001b[39m\u001b[38;5;124mA\u001b[39m\u001b[38;5;124m'\u001b[39m \u001b[38;5;241m+\u001b[39m \u001b[38;5;28mstr\u001b[39m(x))\u001b[38;5;241m.\u001b[39moffset(\u001b[38;5;241m0\u001b[39m, \u001b[38;5;241m1\u001b[39m)\u001b[38;5;241m.\u001b[39mvalue \u001b[38;5;241m=\u001b[39m [\u001b[38;5;124m'\u001b[39m\u001b[38;5;124mapple\u001b[39m\u001b[38;5;124m'\u001b[39m, \u001b[38;5;124m'\u001b[39m\u001b[38;5;124mbanana\u001b[39m\u001b[38;5;124m'\u001b[39m, \u001b[38;5;124m'\u001b[39m\u001b[38;5;124mpear\u001b[39m\u001b[38;5;124m'\u001b[39m]\n",
      "\u001b[0;31mNameError\u001b[0m: name 'Range' is not defined"
     ]
    }
   ],
   "source": [
    "for x in range(1, 11): #loop through a range\n",
    "    if Range('A' + str(x)).value == 5: #to match your own criterion\n",
    "        Range('A' + str(x)).offset(0, 1).value = ['apple', 'banana', 'pear'] #the returns of your own function"
   ]
  },
  {
   "cell_type": "code",
   "execution_count": null,
   "id": "7fa5c3e5-28af-4f0f-bf4f-0928e69fdde9",
   "metadata": {},
   "outputs": [],
   "source": []
  }
 ],
 "metadata": {
  "kernelspec": {
   "display_name": "Python 3 (ipykernel)",
   "language": "python",
   "name": "python3"
  },
  "language_info": {
   "codemirror_mode": {
    "name": "ipython",
    "version": 3
   },
   "file_extension": ".py",
   "mimetype": "text/x-python",
   "name": "python",
   "nbconvert_exporter": "python",
   "pygments_lexer": "ipython3",
   "version": "3.10.0"
  }
 },
 "nbformat": 4,
 "nbformat_minor": 5
}
