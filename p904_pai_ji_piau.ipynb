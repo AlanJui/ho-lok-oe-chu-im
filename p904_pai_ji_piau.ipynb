{
 "cells": [
  {
   "cell_type": "code",
   "execution_count": 2,
   "id": "7e8f6711-31a7-42a5-bfb6-db8410007766",
   "metadata": {},
   "outputs": [],
   "source": [
    "import xlwings as xw\n",
    "import re\n",
    "\n",
    "file_path = ('to-tek-keng.xlsx')\n",
    "wb = xw.Book(file_path)"
   ]
  },
  {
   "cell_type": "code",
   "execution_count": 3,
   "metadata": {},
   "outputs": [
    {
     "name": "stdout",
     "output_type": "stream",
     "text": [
      "end_row = 81\n"
     ]
    }
   ],
   "source": [
    "source_sheet = wb.sheets['工作表1']\n",
    "target_sheet = wb.sheets['工作表2']\n",
    "\n",
    "end_row = source_sheet.range('A' + str(source_sheet.cells.last_cell.row)).end('up').row\n",
    "print(f'end_row = {end_row}')\n"
   ]
  },
  {
   "cell_type": "code",
   "execution_count": 4,
   "metadata": {},
   "outputs": [],
   "source": [
    "# 將字串轉換成 List\n",
    "# Python code to convert string to list character-wise\n",
    "def Convert(string):\n",
    "    list1=[]\n",
    "    list1[:0]=string\n",
    "    return list1\n",
    "\n",
    "#-----------------------------------------------------\n",
    "\n",
    "row = 1     # index for source sheet\n",
    "i = 1       # index for target sheet\n",
    "\n",
    "while row < end_row:\n",
    "    # Read data from source_sheet \n",
    "    han_ji = str(source_sheet.range('A' + str(row)).value)\n",
    "    han_ji.strip()\n",
    "    \n",
    "    han_ji_list = Convert(han_ji)\n",
    "\n",
    "    #=========================================\n",
    "    # Write to target cell\n",
    "    #=========================================\n",
    "    target_sheet.range('A' + str(i)).options(transpose=True).value = han_ji_list\n",
    "    \n",
    "    i += len(han_ji_list) \n",
    "    row += 1"
   ]
  }
 ],
 "metadata": {
  "kernelspec": {
   "display_name": "Python 3.10.0 64-bit ('excel-3.10.0')",
   "language": "python",
   "name": "python3"
  },
  "language_info": {
   "codemirror_mode": {
    "name": "ipython",
    "version": 3
   },
   "file_extension": ".py",
   "mimetype": "text/x-python",
   "name": "python",
   "nbconvert_exporter": "python",
   "pygments_lexer": "ipython3",
   "version": "3.10.0"
  },
  "orig_nbformat": 4,
  "vscode": {
   "interpreter": {
    "hash": "1b569b8cb82cc0b4d93e64a81a8088d32bbb20998db3215c562e2469512179e8"
   }
  }
 },
 "nbformat": 4,
 "nbformat_minor": 2
}
