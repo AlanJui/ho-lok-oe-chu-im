{
 "cells": [
  {
   "cell_type": "code",
   "execution_count": 2,
   "id": "f62ea83a-65c3-44bb-8d5d-11f2a2da1df6",
   "metadata": {},
   "outputs": [
    {
     "data": {
      "text/plain": [
       "1.0"
      ]
     },
     "execution_count": 2,
     "metadata": {},
     "output_type": "execute_result"
    }
   ],
   "source": [
    "import xlwings as xw\n",
    "\n",
    "sheet = xw.Book().sheets[0]\n",
    "sheet.range('A1').value = 1\n",
    "sheet.range('A1').value"
   ]
  },
  {
   "cell_type": "code",
   "execution_count": 2,
   "id": "68d38e4e-2827-4955-9ea5-885d4abc19a7",
   "metadata": {},
   "outputs": [
    {
     "data": {
      "text/plain": [
       "[1.0, 2.0, 3.0, 4.0, 5.0]"
      ]
     },
     "execution_count": 2,
     "metadata": {},
     "output_type": "execute_result"
    }
   ],
   "source": [
    "sheet = xw.Book().sheets[0]\n",
    "sheet.range('A1').value = [[1], [2], [3], [4], [5]]\n",
    "sheet.range('A1:A5').value"
   ]
  },
  {
   "cell_type": "code",
   "execution_count": null,
   "id": "c9f1eeb0-857a-4bdf-95a2-837d279a7484",
   "metadata": {},
   "outputs": [],
   "source": [
    "sheet.range('A1').value = [1, 2, 3, 4, 5]\n",
    "sheet.range('A1:E1').value\n"
   ]
  },
  {
   "cell_type": "code",
   "execution_count": 7,
   "id": "84d09b78",
   "metadata": {},
   "outputs": [
    {
     "name": "stdout",
     "output_type": "stream",
     "text": [
      "item = ㄧㄨ-, result = <re.Match object; span=(0, 1), match='ㄧ'>\n",
      "item = ㄐ。ㄧㄣ+, result = None\n",
      "item = ㄧ+, result = <re.Match object; span=(0, 1), match='ㄧ'>\n",
      "item = ㄉㄧㄉˇ, result = None\n",
      "item = ㄧㄛㄥˇ, result = <re.Match object; span=(0, 1), match='ㄧ'>\n",
      "item = ㄚ+, result = <re.Match object; span=(0, 1), match='ㄚ'>\n",
      "item =  , result = None\n",
      "item = ㄌㄧㄨ+, result = None\n",
      "item = ㄙㄨㄧˋ, result = None\n",
      "item = ㄏㄚˇ, result = None\n",
      "item = ㄊㄢ-, result = None\n",
      "item = ㄏㄨㄧ+, result = None\n",
      "item = ㄧㄨ-, result = <re.Match object; span=(0, 1), match='ㄧ'>\n",
      "item = ㄧˇ, result = <re.Match object; span=(0, 1), match='ㄧ'>\n",
      "item = ㄚ。, result = <re.Match object; span=(0, 1), match='ㄚ'>\n"
     ]
    }
   ],
   "source": [
    "import re\n",
    "\n",
    "pattern = re.compile(r'^[ㄚㆩ(ㄚ。)ㄧㆪ(ㄧ。)ㄨㆫ(ㄨ。)ㄝ(ㄝ。)ㆤㆥㄛㆧ(ㄛ。)ㄜ儿]')\n",
    "lines = [\n",
    "    'ㄧㄨ-',\n",
    "    'ㄐ。ㄧㄣ+',\n",
    "    'ㄧ+',\n",
    "    'ㄉㄧㄉˇ',\n",
    "    'ㄧㄛㄥˇ',\n",
    "    'ㄚ+',\n",
    "    ' ',\n",
    "    'ㄌㄧㄨ+',\n",
    "    'ㄙㄨㄧˋ',\n",
    "    'ㄏㄚˇ',\n",
    "    'ㄊㄢ-',\n",
    "    'ㄏㄨㄧ+',\n",
    "    'ㄧㄨ-',\n",
    "    'ㄧˇ',\n",
    "    'ㄚ。',\n",
    "]\n",
    "\n",
    "for item in lines:\n",
    "    result = pattern.match(item)\n",
    "    print(f'item = {item}, result = {result}')"
   ]
  },
  {
   "cell_type": "code",
   "execution_count": 9,
   "id": "e39961c7",
   "metadata": {},
   "outputs": [
    {
     "name": "stdout",
     "output_type": "stream",
     "text": [
      "seng_boo_dict = {'ㄅ': 'p', 'ㄆ': 'ph', 'ㄇ': 'm', 'ㆠ': 'b', 'ㄉ': 't', 'ㄊ': 'th', 'ㄋ': 'n', 'ㄌ': 'l', 'ㄍ': 'k', 'ㄎ': 'kh', 'ㄏ': 'h', 'ㆣ': 'g', 'ㄗ': 'ch', 'ㄘ': 'chh', 'ㄙ': 's', 'ㆡ': 'j', 'ㄐ': 'chi', 'ㄑ': 'chhi', 'ㄒ': 'si', 'ㆢ': 'ji', 'ㄣ': 'n', 'ㄚ': 'ng'}\n",
      "un_boo_dict = {'ㄚ': 'a', 'ㄧ': 'i', 'ㄨ': 'u', 'ㆤ': 'e', 'ㄛ': 'oo', 'ㄜ': 'o', '儿': 'o', 'ㆩ': 'ann', 'ㆪ': 'inn', 'ㆫ': 'unn', 'ㆥ': 'enn', 'ㆧ': 'oonn'}\n"
     ]
    }
   ],
   "source": [
    "\n",
    "# 轉換成十五音\n",
    "seng_boo_dict = {\n",
    "    'ㄅ': 'p', \n",
    "    'ㄆ': 'ph', \n",
    "    'ㄇ': 'm', \n",
    "    'ㆠ': 'b', \n",
    "    'ㄉ': 't', \n",
    "    'ㄊ': 'th', \n",
    "    'ㄋ': 'n', \n",
    "    'ㄌ': 'l', \n",
    "    'ㄍ': 'k', \n",
    "    'ㄎ': 'kh', \n",
    "    'ㄏ': 'h', \n",
    "    'ㆣ': 'g', \n",
    "    'ㄗ': 'ch', \n",
    "    'ㄘ': 'chh', \n",
    "    'ㄙ': 's', \n",
    "    'ㆡ': 'j', \n",
    "    'ㄐ': 'chi', \n",
    "    'ㄑ': 'chhi', \n",
    "    'ㄒ': 'si', \n",
    "    'ㆢ': 'ji', \n",
    "    'ㄇ': 'm', \n",
    "    'ㄣ': 'n', \n",
    "    'ㄚ': 'ng',  \n",
    "}\n",
    "\n",
    "un_boo_dict = {\n",
    "    'ㄚ': 'a', \n",
    "    'ㄧ': 'i', \n",
    "    'ㄨ': 'u', \n",
    "    'ㆤ': 'e', \n",
    "    'ㄛ': 'oo', \n",
    "    'ㄜ': 'o', \n",
    "    '儿': 'o', \n",
    "    'ㆩ': 'ann', \n",
    "    'ㆪ': 'inn', \n",
    "    'ㆫ': 'unn', \n",
    "    'ㆥ': 'enn', \n",
    "    'ㆧ': 'oonn',         \n",
    "}\n",
    "print(f'seng_boo_dict = {seng_boo_dict}')\n",
    "print(f'un_boo_dict = {un_boo_dict}')\n",
    "\n",
    "print(f'ㄨ = {un_boo_dict['ㄨ']}')"
   ]
  },
  {
   "cell_type": "code",
   "execution_count": 3,
   "id": "9e37d14e-d703-457e-aa5d-bca176d01a20",
   "metadata": {},
   "outputs": [],
   "source": [
    "sheet.range('A1').options(transpose=True).value = [1,2,3,4]\n",
    "\n"
   ]
  }
 ],
 "metadata": {
  "kernelspec": {
   "display_name": "Python 3.10.0 64-bit ('excel-3.10.0')",
   "language": "python",
   "name": "python3"
  },
  "language_info": {
   "codemirror_mode": {
    "name": "ipython",
    "version": 3
   },
   "file_extension": ".py",
   "mimetype": "text/x-python",
   "name": "python",
   "nbconvert_exporter": "python",
   "pygments_lexer": "ipython3",
   "version": "3.10.0"
  },
  "vscode": {
   "interpreter": {
    "hash": "1b569b8cb82cc0b4d93e64a81a8088d32bbb20998db3215c562e2469512179e8"
   }
  }
 },
 "nbformat": 4,
 "nbformat_minor": 5
}
