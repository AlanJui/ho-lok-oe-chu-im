{
 "cells": [
  {
   "cell_type": "code",
   "execution_count": 4,
   "metadata": {},
   "outputs": [],
   "source": [
    "#coding=utf-8\n",
    "import xlwings as xw\n",
    "import re\n",
    "# 打開活頁簿檔案\n",
    "file_path = ('Han-Ggi.xlsx')\n",
    "wb = xw.Book(file_path)"
   ]
  },
  {
   "cell_type": "code",
   "execution_count": 5,
   "metadata": {},
   "outputs": [
    {
     "name": "stdout",
     "output_type": "stream",
     "text": [
      "row_num = 1399\n"
     ]
    }
   ],
   "source": [
    "source_sheet = wb.sheets['source_data']\n",
    "\n",
    "row_num = source_sheet.range('A' + str(wb.sheets[0].cells.last_cell.row)).end('up').row\n",
    "print(f'row_num = {row_num}')\n",
    "\n",
    "# row_num = wb.sheets[0].range('A1').end('down').row\n",
    "# print(f'row_num = {row_num}')"
   ]
  },
  {
   "cell_type": "code",
   "execution_count": 9,
   "metadata": {},
   "outputs": [],
   "source": [
    "sheet = wb.sheets['工作表1']\n",
    "\n",
    "row_content = []\n",
    "start_row = 1\n",
    "end_row = row_num\n",
    "row = 1\n",
    "i = 1  # index for source_data sheet\n",
    "search_pattern = r'(^\\d+.\\s)(.+)'\n",
    "\n",
    "while row < end_row:\n",
    "    # Read data from source_sheet \n",
    "    read_data  = str(source_sheet.range('A' + str(row)).value)\n",
    "    han_ji = read_data.strip()\n",
    "    piau_tiam = han_ji.count('，')\n",
    "    piau_tiam2 = han_ji.count('；')\n",
    "    ku_ho = han_ji.count('。')\n",
    "    if ku_ho == 0:\n",
    "        un = piau_tiam + piau_tiam2 + 1\n",
    "    else:\n",
    "        un = piau_tiam + piau_tiam2 \n",
    "    row += 1\n",
    "\n",
    "    chu_im = \"\"\n",
    "    for j in range(0, un):\n",
    "        buffer = str(source_sheet.range('A' + str(row)).value)\n",
    "        buffer.strip()\n",
    "        chu_im += (buffer + ' ') \n",
    "        row += 1\n",
    "    row += 1\n",
    "    \n",
    "    # Write to target cell\n",
    "    # Append ku_ho\n",
    "    if ku_ho == 0:\n",
    "        han_ji += '。'\n",
    "    # Strip Line ID\n",
    "    searchObj = re.search( r'(^\\d+.\\s)(.+)', han_ji, re.M|re.I)\n",
    "    if searchObj:\n",
    "        sheet.range('A' + str(i)).value = searchObj.group(2)\n",
    "    else:        \n",
    "        sheet.range('A' + str(i)).value = han_ji \n",
    "    sheet.range('B' + str(i)).value = chu_im \n",
    "    i += 1"
   ]
  }
 ],
 "metadata": {
  "kernelspec": {
   "display_name": "Python 3.10.0 64-bit ('excel-3.10.0')",
   "language": "python",
   "name": "python3"
  },
  "language_info": {
   "codemirror_mode": {
    "name": "ipython",
    "version": 3
   },
   "file_extension": ".py",
   "mimetype": "text/x-python",
   "name": "python",
   "nbconvert_exporter": "python",
   "pygments_lexer": "ipython3",
   "version": "3.10.0"
  },
  "orig_nbformat": 4,
  "vscode": {
   "interpreter": {
    "hash": "1b569b8cb82cc0b4d93e64a81a8088d32bbb20998db3215c562e2469512179e8"
   }
  }
 },
 "nbformat": 4,
 "nbformat_minor": 2
}
