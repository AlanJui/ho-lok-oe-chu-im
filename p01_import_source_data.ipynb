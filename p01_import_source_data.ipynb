{
 "cells": [
  {
   "cell_type": "code",
   "execution_count": 1,
   "metadata": {},
   "outputs": [],
   "source": [
    "#coding=utf-8\n",
    "import xlwings as xw\n",
    "import re"
   ]
  },
  {
   "cell_type": "code",
   "execution_count": 2,
   "metadata": {},
   "outputs": [
    {
     "name": "stdout",
     "output_type": "stream",
     "text": [
      "source_rows = 250\n"
     ]
    }
   ],
   "source": [
    "# 打開活頁簿檔案\n",
    "file_path = 'hoo-goa-chu-im.xlsx'\n",
    "wb = xw.Book(file_path)\n",
    "\n",
    "# 指定來源工作表\n",
    "source_sheet = wb.sheets['工作表1']\n",
    "\n",
    "# 取得工作表內總列數\n",
    "source_rows = source_sheet.range('A' + str(wb.sheets[0].cells.last_cell.row)).end('up').row\n",
    "print(f'source_rows = {source_rows}')"
   ]
  },
  {
   "cell_type": "code",
   "execution_count": 3,
   "metadata": {},
   "outputs": [],
   "source": [
    "#==========================================================\n",
    "# 備妥程式需使用之工作表\n",
    "#==========================================================\n",
    "sheet_name_list = [\n",
    "    \"缺字表\",\n",
    "    \"字庫表\", \n",
    "    \"漢字注音表\", \n",
    "]\n",
    "#-----------------------------------------------------\n",
    "# 檢查工作表是否已存在\n",
    "for sheet_name in sheet_name_list:\n",
    "    sheet = wb.sheets[sheet_name]\n",
    "    try:\n",
    "        sheet.select()\n",
    "        sheet.clear()\n",
    "        continue\n",
    "    except: \n",
    "        # CommandError 的 Exception 發生日，表工作表不存在\n",
    "        # 新增程式需使用之工作表\n",
    "        wb.sheets.add(name=sheet_name)\n",
    "\n",
    "tui_chiau_sheet = wb.sheets[\"漢字注音表\"]"
   ]
  },
  {
   "cell_type": "code",
   "execution_count": 4,
   "metadata": {},
   "outputs": [],
   "source": [
    "#-----------------------------------------------------\n",
    "# 將字串轉換成 List\n",
    "# Python code to convert string to list character-wise\n",
    "def convert_string_to_chars_list(string):\n",
    "    list1=[]\n",
    "    list1[:0]=string\n",
    "    return list1\n"
   ]
  },
  {
   "cell_type": "code",
   "execution_count": 5,
   "metadata": {},
   "outputs": [],
   "source": [
    "#==========================================================\n",
    "# 主程式\n",
    "#==========================================================\n",
    "\n",
    "i = 1  # index for target sheet\n",
    "for row in range(1, source_rows + 1):\n",
    "    # Read data from source_sheet \n",
    "    chit_hang_ji  = str(source_sheet.range('A' + str(row)).value)\n",
    "    hang_ji_str = chit_hang_ji.strip()\n",
    "    \n",
    "    # 讀到空白行\n",
    "    if hang_ji_str == \"None\":\n",
    "        hang_ji_str = \"\\n\"\n",
    "    else:\n",
    "        hang_ji_str = f\"{chit_hang_ji}\\n\"\n",
    "    \n",
    "    han_ji_range = convert_string_to_chars_list(hang_ji_str)\n",
    "        \n",
    "    #=========================================================\n",
    "    # Write to target worksheet\n",
    "    #=========================================================\n",
    "    tui_chiau_sheet.range('A' + str(i)).options(transpose=True).value = han_ji_range\n",
    "\n",
    "    ji_soo = len(han_ji_range)\n",
    "    i += ji_soo"
   ]
  }
 ],
 "metadata": {
  "kernelspec": {
   "display_name": "Python 3.10.0 64-bit ('excel-3.10.0')",
   "language": "python",
   "name": "python3"
  },
  "language_info": {
   "codemirror_mode": {
    "name": "ipython",
    "version": 3
   },
   "file_extension": ".py",
   "mimetype": "text/x-python",
   "name": "python",
   "nbconvert_exporter": "python",
   "pygments_lexer": "ipython3",
   "version": "3.10.0"
  },
  "orig_nbformat": 4,
  "vscode": {
   "interpreter": {
    "hash": "1b569b8cb82cc0b4d93e64a81a8088d32bbb20998db3215c562e2469512179e8"
   }
  }
 },
 "nbformat": 4,
 "nbformat_minor": 2
}
