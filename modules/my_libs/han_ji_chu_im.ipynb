{
 "cells": [
  {
   "cell_type": "code",
   "execution_count": 48,
   "metadata": {},
   "outputs": [],
   "source": [
    "import re\n",
    "\n",
    "#==========================================================\n",
    "# 自漢字的「注音碼」，分析出：聲母、韻母、調號\n",
    "#==========================================================\n",
    "\n",
    "siann_pattern = re.compile(r\"(b|chh|ch|g|h|j|kh|k|l|m|ng|n|ph|p|s|th|t|q)\")\n",
    "\n",
    "def split_chu_im(chu_im):\n",
    "    result = []\n",
    "    \n",
    "    siann_bu = siann_pattern.match(chu_im).group()\n",
    "    un_bu = chu_im[ len(siann_bu):len(chu_im)-1 ]\n",
    "    diau = chu_im[ len(chu_im)-1 ]\n",
    "\n",
    "    result += [siann_bu]\n",
    "    result += [un_bu]\n",
    "    result += [diau]\n",
    "    return result"
   ]
  },
  {
   "cell_type": "code",
   "execution_count": 49,
   "metadata": {},
   "outputs": [],
   "source": [
    "import re\n",
    "import pandas as pd\n",
    "\n",
    "#==========================================================\n",
    "# 韻母處理\n",
    "#==========================================================\n",
    "un_mu_dict = {\n",
    "    'un_code': [ 'a', 'ann', 'ah', 'ahnn', 'ai', 'ainn', 'ak', 'am', 'an', 'ang', 'ap', 'at', 'au', 'auh', 'e', 'enn', 'eh', 'ehnn', 'ek', 'eng', 'i', 'inn', 'ia', 'iann', 'iah', 'iannh', 'iak', 'iam', 'ian', 'iang', 'iap', 'iat', 'iau', 'iaunn', 'iauh', 'ih', 'im', 'in', 'io', 'ioh', 'iok', 'iong', 'ip', 'it', 'iu', 'iunn', 'iunnh', 'm', 'mh', 'ng', 'ngh', 'o', 'onn', 'oo', 'oa', 'oann', 'oah', 'oai', 'oainn', 'oan', 'oang', 'oat', 'oe', 'oenn', 'oeh', 'oh', 'onnh', 'ok', 'om', 'ong', 'u', 'uh', 'ui', 'un', 'ut'], \n",
    "    'IPA': [ 'a', 'ã', 'a?', 'ã?', 'ai', 'ãĩ', 'ak̚', 'am', 'an', 'aŋ', 'ap̚', 'at̚', 'aʊ', 'au?', 'e', 'ẽ', 'e?', 'ẽ?', 'ik̚', 'ɪŋ', 'i', 'ĩ', 'ia', 'ĩã', 'ia?', 'iãh', 'iak̚', 'iam', 'ian', 'iaŋ', 'iap̚', 'iat̚', 'iaʊ', 'ĩãũ', 'iau?', 'i?', 'im', 'in', 'io', 'iə?', 'iɔk̚', 'iɔŋ', 'ip̚', 'it̚', 'iu', 'ĩũ', 'iũh', 'm̩', 'm̩h', 'ŋ̍', 'ŋ̍h', 'o', 'ɔ̃', 'ɔ', 'ua', 'ũã', 'ua?', 'uai', 'ũãĩ', 'uan', 'uaŋ', 'uat̚', 'ue', 'ũẽ', 'ue?', 'ə?', 'ɔ̃?', 'ɔk̚', 'ɔm', 'ɔŋ', 'u', 'u?', 'ui', 'un', 'ut̚'], \n",
    "    'sip_ngoo_im': [ '膠', '監', '膠', '監', '皆', '閒', '江', '甘', '干', '江', '甘', '干', '交', '交', '伽', '更', '伽', '更', '經', '經', '居', '梔', '迦', '驚', '迦', '驚', '姜', '兼', '堅', '姜', '兼', '堅', '嬌', '嘄', '嬌', '居', '金', '巾', '茄', '茄', '恭', '恭', '金', '巾', '丩', '牛', '牛', '姆', '姆', '鋼', '鋼', '高', '姑', '沽', '瓜', '官', '瓜', '乖', '閂', '觀', '光', '觀', '檜', '糜', '檜', '高', '姑', '公', '箴', '公', '艍', '艍', '規', '君', '君'], \n",
    "    'POJ': [ 'a', 'aⁿ', 'ah', 'ahⁿ', 'ai', 'aiⁿ', 'ak', 'am', 'an', 'ang', 'ap', 'at', 'au', 'auh', 'e', 'eⁿ', 'eh', 'ehⁿ', 'ek', 'eng', 'i', 'iⁿ', 'ia', 'iaⁿ', 'iah', 'iahⁿ', 'iak', 'iam', 'ian', 'iang', 'iap', 'iat', 'iau', 'iauⁿ', 'iauh', 'ih', 'im', 'in', 'io', 'ioh', 'iok', 'iong', 'ip', 'it', 'iu', 'iuⁿ', 'iuhⁿ', 'm', 'mh', 'ng', 'ngh', 'o', 'oⁿ', 'o͘', 'oa', 'oaⁿ', 'oah', 'oai', 'oaiⁿ', 'oan', 'oang', 'oat', 'oe', 'oenn', 'oeh', 'oh', 'ohⁿ', 'ok', 'om', 'ong', 'u', 'uh', 'ui', 'un', 'ut'], \n",
    "    'TL': [ 'a', 'ann', 'ah', 'annh', 'ai', 'ainn', 'ak', 'am', 'an', 'ang', 'ap', 'ap', 'au', 'auh', 'e', 'enn', 'eh', 'ennh', 'ik', 'ing', 'i', 'inn', 'ia', 'iann', 'iah', 'iannh', 'iak', 'iam', 'ian', 'iang', 'iap', 'iat', 'iau', 'iaunn', 'iauh', 'ih', 'im', 'in', 'io', 'ioh', 'iok', 'iong', 'ip', 'it', 'iu', 'iunn', 'iunnh', 'm', 'mh', 'ng', 'ngh', 'o', 'onn', 'oo', 'ua', 'uann', 'uah', 'uai', 'uainn', 'uan', 'uang', 'uat', 'ue', 'uenn', 'ueh', 'oh', 'onnh', 'ok', 'om', 'ong', 'u', 'uh', 'ui', 'un', 'ut'], \n",
    "    'BP': [ 'a', 'na', 'ah', 'nah', 'ai', 'nai', 'ak', 'am', 'an', 'ang', 'ap', 'at', 'ao', 'aoh', 'e', 'ne', 'eh', 'neh', 'ik', 'ing', 'i', 'ni', 'ia', 'nia', 'iah', 'niah', 'iak', 'iam', 'ian', 'iang', 'iap', 'iat', 'iao', 'niao', 'iaoh', 'ih', 'im', 'in', 'io', 'ioh', 'iok', 'iong', 'ip', 'it', 'iu', 'niu', 'niuh', 'm', 'mh', 'ng', 'ngh', 'o', 'noo', 'oo', 'ua', 'nua', 'uah', 'uai', 'nuai', 'uan', 'uang', 'uat', 'ue', 'nue', 'ueh', 'oh', 'nooh', 'ok', 'om', 'ong', 'u', 'uh', 'ui', 'un', 'ut'], \n",
    "    'TPS': [ 'ㄚ', 'ㆩ', 'ㄚㆷ', 'ㆩㆷ', 'ㄞ', 'ㆮ', 'ㄚㆻ', 'ㆰ', 'ㄢ', 'ㄤ', 'ㄚㆴ', 'ㄚㆵ', 'ㄠ', 'ㄠㆷ', 'ㆤ', 'ㆥ', 'ㆤㆷ', 'ㆥㆷ', 'ㄧㆻ', 'ㄧㄥ', 'ㄧ', 'ㆪ', 'ㄧㄚ', 'ㄧㆩ', 'ㄧㄚㆷ', 'ㄧㆩㆷ', 'ㄧㄚㆻ', 'ㄧㆰ', 'ㄧㄢ', 'ㄧㄤ', 'ㄧㄚㆴ', 'ㄧㄚㆵ', 'ㄧㄠ', 'ㄧㆯ', 'ㄧㄠㆷ', 'ㄧㆷ', 'ㄧㆬ', 'ㄧㄣ', 'ㄧㄜ', 'ㄧㄜㆷ', 'ㄧㆦㆻ', 'ㄧㆲ', 'ㄧㆴ', 'ㄧㆵ', 'ㄧㄨ', 'ㄧㆫ', 'ㄧㆫㆷ', 'ㆬ', 'ㆬㆷ', 'ㆭ', 'ㆭㆷ', 'ㄜ', 'ㆧ', 'ㆦ', 'ㄨㄚ', 'ㄨㆩ', 'ㄨㄚㆷ', 'ㄨㄞ', 'ㄨㆮ', 'ㄨㄢ', 'ㄨㄤ', 'ㄨㄚㆵ', 'ㄨㆤ', 'ㄨㆥ', 'ㄨㆤㆷ', 'ㄜㆷ', 'ㆧㆷ', 'ㆦㆻ', 'ㆱ', 'ㆲ', 'ㄨ', 'ㄨㆷ', 'ㄨㄧ', 'ㄨㄣ', 'ㄨㆵ'], \n",
    "    'sip_ngoo_im_id': [ '28', '26', '28', '26', '16', '40', '21', '19', '6', '21', '19', '6', '23', '23', '39', '31', '39', '31', '9', '9', '29', '34', '24', '36', '24', '36', '18', '22', '2', '18', '22', '2', '12', '46', '12', '29', '3', '17', '33', '33', '14', '14', '3', '17', '30', '50', '50', '42', '42', '38', '38', '15', '41', '11', '20', '37', '20', '8', '44', '10', '43', '10', '25', '45', '25', '15', '41', '7', '47', '7', '27', '27', '4', '1', '1'], \n",
    "}\n",
    "df_un_bu = pd.DataFrame(un_mu_dict)\n",
    "\n",
    "# 自 DataFrame 取出，欄標題名為：un_code 的部份，並將之轉換成 list\n",
    "un_list = df_un_bu[\"un_code\"].values.tolist()\n",
    "sip_ngoo_im_un_mu_list = df_un_bu[\"sip_ngoo_im_id\"].values.tolist()\n",
    "\n",
    "#==========================================================\n",
    "# 找韻母的「索引編號」\n",
    "#==========================================================\n",
    "\n",
    "def get_un_idx(un_bu):\n",
    "    try:\n",
    "        un_idx = un_list.index(un_bu)\n",
    "    except ValueError:\n",
    "        un_idx = -1\n",
    "        print(f'Un-bu: {un_bu} does not exist')\n",
    "    \n",
    "    return un_idx\n",
    "\n",
    "def get_sip_ngoo_im_idx(un_bu_index):\n",
    "    try:\n",
    "        sip_ngoo_im_idx = int(sip_ngoo_im_un_mu_list[un_bu_index])\n",
    "    except ValueError:\n",
    "        sip_ngoo_im_idx = -1\n",
    "        print(f'Sip-Ngoo-Im-Un-Bu Index: \"{un_bu_index}\" does not exist')\n",
    "    \n",
    "    return sip_ngoo_im_idx\n"
   ]
  },
  {
   "cell_type": "code",
   "execution_count": 50,
   "metadata": {},
   "outputs": [],
   "source": [
    "import re\n",
    "import pandas as pd\n",
    "\n",
    "#==========================================================\n",
    "# 聲母處理\n",
    "#==========================================================\n",
    "siann_bu_dict = {\n",
    "    'siann_code': [ 'b', 'ch', 'chh', 'g', 'h', 'j', 'k', 'kh', 'l', 'm', 'n', 'ng', 'p', 'ph', 's', 't', 'th'], \n",
    "    'IPA': [ 'b', 'ʦ', 'ʦʰ', 'ɡ', 'h', 'ʣ', 'k', 'kʰ', 'l', 'm', 'n', 'ŋ', 'p', 'pʰ', 's', 't', 'tʰ'], \n",
    "    'sip_ngoo_im': [ '門', '曾', '出', '語', '喜', '入', '求', '去', '柳', '毛', '耐', '雅', '邊', '頗', '時', '地', '他'], \n",
    "    'POJ': [ 'b', 'ch', 'chh', 'g', 'h', 'j', 'k', 'kh', 'l', 'm', 'n', 'ng', 'p', 'ph', 's', 't', ' '], \n",
    "    'TL': [ 'b', 'ts', 'tsh', 'g', 'h', 'j', 'k', 'kh', 'l', 'm', 'n', 'ng', 'p', 'ph', 's', 't', 'th'], \n",
    "    'BP': [ 'bb', 'z', 'c', 'gg', 'h', 'zz', 'g', 'k', 'l', 'bbn', 'ln', 'ggn', 'b', 'p', 's', 'd', 't'], \n",
    "    'TPS': [ 'ㆠ', 'ㄗ', 'ㄘ', 'ㆣ', 'ㄏ', 'ㆡ', 'ㄍ', 'ㄎ', 'ㄌ', 'ㄇ', 'ㄋ', 'ㄫ', 'ㄅ', 'ㄆ', 'ㄙ', 'ㄉ', 'ㄊ'],     \n",
    "}\n",
    "df_siann_bu = pd.DataFrame(siann_bu_dict)\n",
    "\n",
    "# 自 DataFrame 取出，欄標題名為：siann_code 的部份，並將之轉換成 list\n",
    "siann_list = df_siann_bu[\"siann_code\"].values.tolist()\n",
    "\n",
    "#==========================================================\n",
    "# 找聲母的「索引編號」\n",
    "#==========================================================\n",
    "\n",
    "def get_siann_idx(siann_bu):\n",
    "    siann_idx = siann_list.index(siann_bu)\n",
    "    \n",
    "    return siann_idx\n"
   ]
  },
  {
   "cell_type": "code",
   "execution_count": 51,
   "metadata": {},
   "outputs": [],
   "source": [
    "# 將字串轉換成 List\n",
    "# Python code to convert string to list character-wise\n",
    "def convert_string_to_list(string):\n",
    "    list1=[]\n",
    "    list1[:0]=string\n",
    "    return list1\n"
   ]
  },
  {
   "cell_type": "code",
   "execution_count": 52,
   "metadata": {},
   "outputs": [],
   "source": [
    "#==========================================================\n",
    "# 十五音注音\n",
    "#==========================================================\n",
    "\n",
    "sip_ngoo_im_tiau_dict = {\n",
    "    1: \"一\",\n",
    "    2: \"二\",\n",
    "    3: \"三\",\n",
    "    4: \"四\",\n",
    "    5: \"五\",\n",
    "    7: \"七\",\n",
    "    8: \"八\",\n",
    "}\n",
    "\n",
    "def get_sip_ngoo_im_un_bu(idx):\n",
    "    # return df_un_bu[\"sip_ngoo_im\"].values.tolist()[idx]\n",
    "    return df_un_bu[\"sip_ngoo_im\"][idx]\n",
    "\n",
    "def get_sip_ngoo_im_siann_bu(idx):\n",
    "    return df_siann_bu[\"sip_ngoo_im\"][idx]\n",
    "\n",
    "def get_sip_ngoo_im_tiau_ho(idx):\n",
    "    return sip_ngoo_im_tiau_dict[idx]\n",
    "\n",
    "def get_sip_ngoo_im_chu_im(siann_idx, un_idx, tiau_ho):\n",
    "    sni_un = get_sip_ngoo_im_un_bu(un_idx)\n",
    "    sni_tiau = get_sip_ngoo_im_tiau_ho(int(tiau_ho))\n",
    "    sni_siann = get_sip_ngoo_im_siann_bu(siann_idx)\n",
    "\n",
    "    return(f\"{sni_un}{sni_tiau}{sni_siann}\")"
   ]
  },
  {
   "cell_type": "code",
   "execution_count": 53,
   "metadata": {},
   "outputs": [],
   "source": [
    "#==========================================================\n",
    "# 方音符號\n",
    "#==========================================================\n",
    "\n",
    "TPS_tiau_dict = {\n",
    "    1: \"\",\n",
    "    2: \"ˋ\",\n",
    "    3: \"˪\",\n",
    "    4: \"\",\n",
    "    5: \"ˊ\",\n",
    "    7: \"˫\",\n",
    "    8: \"\\u02D9\",\n",
    "}\n",
    "\n",
    "def get_TPS_un_bu(idx):\n",
    "    # return df_un_bu[\"TPS\"].values.tolist()[idx]\n",
    "    return df_un_bu[\"TPS\"][idx]\n",
    "\n",
    "def get_TPS_siann_bu(idx):\n",
    "    return df_siann_bu[\"TPS\"][idx]\n",
    "\n",
    "def get_TPS_tiau_ho(idx):\n",
    "    return TPS_tiau_dict[idx]\n",
    "\n",
    "def get_TPS_chu_im(siann_idx, un_idx, tiau_ho):\n",
    "    sni_un = get_TPS_un_bu(un_idx)\n",
    "    sni_tiau = get_TPS_tiau_ho(int(tiau_ho))\n",
    "    sni_siann = get_TPS_siann_bu(siann_idx)\n",
    "\n",
    "    return(f\"{sni_siann}{sni_un}{sni_tiau}\")"
   ]
  },
  {
   "cell_type": "code",
   "execution_count": 54,
   "metadata": {},
   "outputs": [
    {
     "name": "stdout",
     "output_type": "stream",
     "text": [
      "漢字：昧 ==> 注音碼：boenn2 ==> 十五音注音：糜二門\n",
      "漢字：昧 ==> 注音碼：boenn2 ==> 卜音注音：ㆠㄨㆥˋ\n"
     ]
    }
   ],
   "source": [
    "# chu_im = \"nga2\"\n",
    "# chu_im = \"chhian5\"\n",
    "han_ji = \"昧\"\n",
    "chu_im = \"boenn2\"\n",
    "result = split_chu_im(chu_im)\n",
    "\n",
    "siann_bu = result[0]    # siann\n",
    "un_bu = result[1]    # un\n",
    "tiau_ho = result[2]   # tiau\n",
    "\n",
    "idx1 = get_siann_idx(siann_bu)\n",
    "idx2 = get_un_idx(un_bu)\n",
    "idx3 = get_sip_ngoo_im_idx(idx2)\n",
    "\n",
    "sni_un = get_sip_ngoo_im_un_bu(idx2)\n",
    "sni_tiau = get_sip_ngoo_im_tiau_ho(int(tiau_ho))\n",
    "sni_siann = get_sip_ngoo_im_siann_bu(idx1)\n",
    "print(f\"漢字：{han_ji} ==> 注音碼：{chu_im} ==> 十五音注音：{sni_un}{sni_tiau}{sni_siann}\")\n",
    "\n",
    "TPS_chu_im = get_TPS_chu_im(idx1, idx2, tiau_ho)\n",
    "print(f\"漢字：{han_ji} ==> 注音碼：{chu_im} ==> 卜音注音：{TPS_chu_im}\")"
   ]
  },
  {
   "cell_type": "code",
   "execution_count": 63,
   "metadata": {},
   "outputs": [
    {
     "name": "stdout",
     "output_type": "stream",
     "text": [
      "ㆴ˙\n"
     ]
    }
   ],
   "source": [
    "# 莫\tbok8\tb\tok\t8\t1\t68\t7\t\t公八門\tㆠㆦㆻ\u0002D9\n",
    "\n",
    "print(f\"ㆴ\\u02D9\")"
   ]
  }
 ],
 "metadata": {
  "kernelspec": {
   "display_name": "Python 3.10.0 64-bit ('excel-3.10.0')",
   "language": "python",
   "name": "python3"
  },
  "language_info": {
   "codemirror_mode": {
    "name": "ipython",
    "version": 3
   },
   "file_extension": ".py",
   "mimetype": "text/x-python",
   "name": "python",
   "nbconvert_exporter": "python",
   "pygments_lexer": "ipython3",
   "version": "3.10.0"
  },
  "orig_nbformat": 4,
  "vscode": {
   "interpreter": {
    "hash": "1b569b8cb82cc0b4d93e64a81a8088d32bbb20998db3215c562e2469512179e8"
   }
  }
 },
 "nbformat": 4,
 "nbformat_minor": 2
}
