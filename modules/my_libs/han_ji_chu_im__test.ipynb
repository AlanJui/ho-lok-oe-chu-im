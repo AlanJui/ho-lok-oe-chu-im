{
 "cells": [
  {
   "cell_type": "code",
   "execution_count": 11,
   "metadata": {},
   "outputs": [],
   "source": [
    "import import_ipynb\n",
    "import han_ji_chu_im as ji\n",
    "import psycopg2"
   ]
  },
  {
   "cell_type": "code",
   "execution_count": 12,
   "metadata": {},
   "outputs": [
    {
     "name": "stdout",
     "output_type": "stream",
     "text": [
      "漢字：昧 ==> 注音碼：boenn2 ==> 十五音注音：糜二門\n",
      "漢字：昧 ==> 注音碼：boenn2 ==> 卜音注音：ㆠㄨㆥˋ\n"
     ]
    }
   ],
   "source": [
    "# chu_im = \"nga2\"\n",
    "# chu_im = \"chhian5\"\n",
    "han_ji = \"昧\"\n",
    "chu_im = \"boenn2\"\n",
    "result = ji.split_chu_im(chu_im)\n",
    "\n",
    "siann_bu = result[0]    # siann\n",
    "un_bu = result[1]    # un\n",
    "tiau_ho = result[2]   # tiau\n",
    "\n",
    "idx1 = ji.get_siann_idx(siann_bu)\n",
    "idx2 = ji.get_un_idx(un_bu)\n",
    "idx3 = ji.get_sip_ngoo_im_idx(idx2)\n",
    "\n",
    "sni_un = ji.get_sip_ngoo_im_un_bu(idx2)\n",
    "sni_tiau = ji.get_sip_ngoo_im_tiau_ho(int(tiau_ho))\n",
    "sni_siann = ji.get_sip_ngoo_im_siann_bu(idx1)\n",
    "print(f\"漢字：{han_ji} ==> 注音碼：{chu_im} ==> 十五音注音：{sni_un}{sni_tiau}{sni_siann}\")\n",
    "\n",
    "TPS_chu_im = ji.get_TPS_chu_im(idx1, idx2, tiau_ho)\n",
    "print(f\"漢字：{han_ji} ==> 注音碼：{chu_im} ==> 卜音注音：{TPS_chu_im}\")"
   ]
  },
  {
   "cell_type": "code",
   "execution_count": 13,
   "metadata": {},
   "outputs": [
    {
     "name": "stdout",
     "output_type": "stream",
     "text": [
      "漢字：相 ==> 注音碼：siong1 ==> 方音注音：ㄒㄧㆲ\n"
     ]
    }
   ],
   "source": [
    "\"\"\"\n",
    "方音符號測試案例\n",
    "\"\"\"\n",
    "han_ji = \"相\"\n",
    "chu_im = \"siong1\"\n",
    "result = ji.split_chu_im(chu_im)\n",
    "\n",
    "siann_bu = result[0]    # siann\n",
    "un_bu = result[1]    # un\n",
    "tiau_ho = result[2]   # tiau\n",
    "\n",
    "siann_idx = ji.get_siann_idx(siann_bu)\n",
    "un_idx = ji.get_un_idx(un_bu)\n",
    "sip_ngoo_im_idx = ji.get_sip_ngoo_im_idx(un_idx)\n",
    "\n",
    "TPS_chu_im = ji.get_TPS_chu_im(siann_idx, un_idx, tiau_ho)\n",
    "print(f\"漢字：{han_ji} ==> 注音碼：{chu_im} ==> 方音注音：{TPS_chu_im}\")"
   ]
  },
  {
   "cell_type": "code",
   "execution_count": 14,
   "metadata": {},
   "outputs": [
    {
     "name": "stdout",
     "output_type": "stream",
     "text": [
      "漢字：南 ==> 注音碼：lam5 ==> 白話字拼音：lâm\n"
     ]
    }
   ],
   "source": [
    "\"\"\"\n",
    "白話字測試案例\n",
    "\"\"\"\n",
    "han_ji = \"南\"\n",
    "chu_im = \"lam5\"\n",
    "result = ji.split_chu_im(chu_im)\n",
    "\n",
    "siann_bu = result[0]    # siann\n",
    "un_bu = result[1]    # un\n",
    "tiau_ho = result[2]   # tiau\n",
    "\n",
    "siann_idx = ji.get_siann_idx(siann_bu)\n",
    "un_idx = ji.get_un_idx(un_bu)\n",
    "sip_ngoo_im_idx = ji.get_sip_ngoo_im_idx(un_idx)\n",
    "\n",
    "POJ_chu_im = ji.get_POJ_chu_im(siann_idx, un_idx, tiau_ho)\n",
    "print(f\"漢字：{han_ji} ==> 注音碼：{chu_im} ==> 白話字拼音：{POJ_chu_im}\")"
   ]
  },
  {
   "cell_type": "code",
   "execution_count": 15,
   "metadata": {},
   "outputs": [
    {
     "name": "stdout",
     "output_type": "stream",
     "text": [
      "漢字：鏢 ==> 注音碼：pio1 ==> 羅馬拼音：pio\n",
      "漢字：語 ==> 注音碼：gi2 ==> 羅馬拼音：gí\n",
      "漢字：欠 ==> 注音碼：khiam3 ==> 羅馬拼音：khìam\n",
      "漢字：德 ==> 注音碼：tek4 ==> 羅馬拼音：tik\n",
      "漢字：元 ==> 注音碼：goan5 ==> 羅馬拼音：gûan\n",
      "漢字：字 ==> 注音碼：ji7 ==> 羅馬拼音：jī\n",
      "漢字：俗 ==> 注音碼：siok8 ==> 羅馬拼音：si̍ok\n"
     ]
    }
   ],
   "source": [
    "\"\"\"\n",
    "羅馬拼音測試案例\n",
    "\"\"\"\n",
    "han_ji_dict = {\n",
    "    \"鏢\": \"pio1\",\n",
    "    \"語\": \"gi2\",\n",
    "    \"欠\": \"khiam3\",\n",
    "    \"德\": \"tek4\",\n",
    "    \"元\": \"goan5\",\n",
    "    \"字\": \"ji7\",\n",
    "    \"俗\": \"siok8\",\n",
    "}\n",
    "\n",
    "for han_ji in han_ji_dict:\n",
    "    chu_im = han_ji_dict[han_ji]\n",
    "    result = ji.split_chu_im(chu_im)\n",
    "\n",
    "    siann_bu = result[0]    # siann\n",
    "    un_bu = result[1]    # un\n",
    "    tiau_ho = result[2]   # tiau\n",
    "\n",
    "    siann_idx = ji.get_siann_idx(siann_bu)\n",
    "    un_idx = ji.get_un_idx(un_bu)\n",
    "    sip_ngoo_im_idx = ji.get_sip_ngoo_im_idx(un_idx)\n",
    "\n",
    "    TL_chu_im = ji.get_TL_chu_im(siann_idx, un_idx, tiau_ho)\n",
    "    print(f\"漢字：{han_ji} ==> 注音碼：{chu_im} ==> 羅馬拼音：{TL_chu_im}\")"
   ]
  },
  {
   "cell_type": "code",
   "execution_count": 16,
   "metadata": {},
   "outputs": [
    {
     "name": "stdout",
     "output_type": "stream",
     "text": [
      "漢字：鏢 ==> 注音碼：pio1 ==> 閩拼：bīo\n",
      "漢字：語 ==> 注音碼：gi2 ==> 閩拼：ggǐ\n",
      "漢字：欠 ==> 注音碼：khiam3 ==> 閩拼：kìam\n",
      "漢字：德 ==> 注音碼：tek4 ==> 閩拼：dīk\n",
      "漢字：元 ==> 注音碼：goan5 ==> 閩拼：ggúan\n",
      "漢字：字 ==> 注音碼：ji7 ==> 閩拼：zzî\n",
      "漢字：俗 ==> 注音碼：siok8 ==> 閩拼：síok\n",
      "漢字：聲 ==> 注音碼：siann1 ==> 閩拼：snīa\n",
      "漢字：生 ==> 注音碼：chhinn1 ==> 閩拼：cnī\n"
     ]
    }
   ],
   "source": [
    "\"\"\"\n",
    "閩拼測試案例\n",
    "\"\"\"\n",
    "han_ji_dict = {\n",
    "    \"鏢\": \"pio1\",\n",
    "    \"語\": \"gi2\",\n",
    "    \"欠\": \"khiam3\",\n",
    "    \"德\": \"tek4\",\n",
    "    \"元\": \"goan5\",\n",
    "    \"字\": \"ji7\",\n",
    "    \"俗\": \"siok8\",\n",
    "    \"聲\": \"siann1\",\n",
    "    \"生\": \"chhinn1\"\n",
    "}\n",
    "\n",
    "for han_ji in han_ji_dict:\n",
    "    chu_im = han_ji_dict[han_ji]\n",
    "    result = ji.split_chu_im(chu_im)\n",
    "\n",
    "    siann_bu = result[0]    # siann\n",
    "    un_bu = result[1]    # un\n",
    "    tiau_ho = result[2]   # tiau\n",
    "\n",
    "    siann_idx = ji.get_siann_idx(siann_bu)\n",
    "    un_idx = ji.get_un_idx(un_bu)\n",
    "\n",
    "    # BP_chu_im = ji.get_BP_chu_im_simple(siann_idx, un_idx, tiau_ho)\n",
    "    BP_chu_im = ji.get_BP_chu_im(siann_idx, un_idx, tiau_ho)\n",
    "    print(f\"漢字：{han_ji} ==> 注音碼：{chu_im} ==> 閩拼：{BP_chu_im}\")"
   ]
  },
  {
   "cell_type": "code",
   "execution_count": 17,
   "metadata": {},
   "outputs": [
    {
     "name": "stdout",
     "output_type": "stream",
     "text": [
      "漢字：俗 / 聲碼：時 --> s / 韻碼：恭 --> iok / 調號：下入 --> 8\n",
      "漢字：妃 / 聲碼：喜 --> h / 韻碼：規 --> ui / 調號：上平 --> 1\n",
      "漢字：偉 / 聲碼：英 --> q / 韻碼：規 --> ui / 調號：上上 --> 2\n",
      "漢字：創 / 聲碼：出 --> chh / 韻碼：公 --> ong / 調號：上去 --> 3\n",
      "漢字：托 / 聲碼：他 --> th / 韻碼：公 --> ok / 調號：上入 --> 4\n",
      "漢字：樂 / 聲碼：語 --> g / 韻碼：江 --> ak / 調號：下入 --> 8\n"
     ]
    }
   ],
   "source": [
    "\"\"\"\n",
    "十五音轉碼測試案例\n",
    "\"\"\"\n",
    "han_ji_dict = {\n",
    "    \"俗\": [\"時\", \"恭\", \"下入\"],\n",
    "    \"妃\": [\"喜\", \"規\", \"上平\"],\n",
    "    \"偉\": [\"英\", \"規\", \"上上\"],\n",
    "    \"創\": [\"出\", \"公\", \"上去\"],\n",
    "    \"托\": [\"他\", \"公\", \"上入\"],\n",
    "    \"樂\": [\"語\", \"江\", \"下入\"],\n",
    "}\n",
    "\n",
    "for han_ji in han_ji_dict:\n",
    "    siann_bu = han_ji_dict[han_ji][0]\n",
    "    un_bu = han_ji_dict[han_ji][1]\n",
    "    tiau_ho = han_ji_dict[han_ji][2]\n",
    "\n",
    "    siann_code = ji.get_siann_code_by_siann_bu(siann_bu)\n",
    "    tiau_code = ji.convert_trandication_tiau(tiau_ho)\n",
    "    un_code = ji.get_un_code_by_un_bu(un_bu, tiau_code)\n",
    "\n",
    "    print(f\"漢字：{han_ji} / 聲碼：{siann_bu} --> {siann_code} / 韻碼：{un_bu} --> {un_code} / 調號：{tiau_ho} --> {tiau_code}\")"
   ]
  },
  {
   "cell_type": "code",
   "execution_count": 22,
   "metadata": {},
   "outputs": [
    {
     "name": "stdout",
     "output_type": "stream",
     "text": [
      "漢字：於\n",
      "-----------------------------\n",
      "十五音：居一英\n",
      "方音： ㄧ\n",
      "白話字： i\n",
      "羅馬拼音： i\n",
      "十五音：居一英\n",
      "-----------------------------\n",
      "十五音：沽一英\n",
      "方音： ㆦ\n",
      "白話字： o͘\n",
      "羅馬拼音： oo\n",
      "十五音：沽一英\n",
      "-----------------------------\n"
     ]
    }
   ],
   "source": [
    "#==========================================================\n",
    "# 資料庫\n",
    "#==========================================================\n",
    "conn = psycopg2.connect(database=\"alanjui\", user=\"alanjui\", host=\"127.0.0.1\", port=\"5432\")\n",
    "cur = conn.cursor()\n",
    "\n",
    "search_han_ji = \"於\"\n",
    "\n",
    "#sql = f\"select id, han_ji, chu_im, freq, siann, un, tiau from han_ji where han_ji='{search_han_ji}'\"\n",
    "sql =   \"SELECT id, han_ji, chu_im, freq, siann, un, tiau \"\\\n",
    "        \"FROM han_ji \"\\\n",
    "        f\"WHERE han_ji='{search_han_ji}' \"\\\n",
    "        \"ORDER BY freq DESC;\"\n",
    "cur.execute(sql)\n",
    "query_rows = cur.fetchall()\n",
    "\n",
    "print(f\"漢字：{search_han_ji}\")\n",
    "print(f\"-----------------------------\")\n",
    "\n",
    "# 判斷是否發生：找不到漢字注音碼的問題\n",
    "if not query_rows:\n",
    "    print(f\"Can not find 【{search_han_ji}】in Han-Ji-Khoo!!\")\n",
    "else:\n",
    "    counter = len(query_rows)\n",
    "    for i in range(counter):\n",
    "        # 將已找到注音碼的漢字，分解出：聲母、韻母、調號\n",
    "        chu_im = query_rows[i][2]\n",
    "        chu_im_code = ji.split_chu_im(chu_im)\n",
    "        siann_bu = chu_im_code[0].strip()\n",
    "        un_bu = chu_im_code[1]\n",
    "        tiau_ho = chu_im_code[2]\n",
    "\n",
    "        # 取得聲母之聲母碼；及取得韻母之韻母碼；以利後續轉換：十五音、方音符號、\n",
    "        # 白話字、羅馬拼音、閩拼時使用。\n",
    "        if siann_bu != \"\":\n",
    "            siann_index = ji.get_siann_idx(siann_bu)\n",
    "\n",
    "        un_index = ji.get_un_idx(un_bu)\n",
    "        if un_index == -1:\n",
    "            # 記錄沒找到之韻母\n",
    "            print(f\"Can not find 【{search_han_ji}】in Han-Ji-Khoo!!\")\n",
    "            khiam_ji_sheet.range('A' + str(khiam_ji_index)).value = f\"{search_han_ji}: (Un-Bu: {un_bu})\"\n",
    "            khiam_ji_index += 1\n",
    "        sip_ngoo_im_index = ji.get_sip_ngoo_im_idx(un_index)\n",
    "            \n",
    "        #=========================================================\n",
    "        # 使用注音碼，取得各式之〖 注音／拼音〗\n",
    "        #=========================================================\n",
    "                \n",
    "        # 輸出十五音\n",
    "        sip_ngoo_im_chu_im = ji.get_sip_ngoo_im_chu_im(siann_index, un_index, tiau_ho)\n",
    "\n",
    "        # 輸出方音符號\n",
    "        TPS_chu_im = ji.get_TPS_chu_im(siann_index, un_index, tiau_ho)\n",
    "\n",
    "        # 輸出白話字拼音\n",
    "        POJ_chu_im = ji.get_POJ_chu_im(siann_index, un_index, tiau_ho)\n",
    "\n",
    "        # 輸出羅馬拼音\n",
    "        TL_chu_im = ji.get_TL_chu_im(siann_index, un_index, tiau_ho)\n",
    "        \n",
    "        #=========================================================\n",
    "        # 輸出【漢字】的注音\n",
    "        #=========================================================\n",
    "        print(f\"十五音：{sip_ngoo_im_chu_im}\")\n",
    "        print(f\"方音：{TPS_chu_im}\")\n",
    "        print(f\"白話字：{POJ_chu_im}\")\n",
    "        print(f\"羅馬拼音：{TL_chu_im}\")\n",
    "        print(f\"十五音：{sip_ngoo_im_chu_im}\")\n",
    "        print(f\"-----------------------------\")\n",
    "\n",
    "#==========================================================\n",
    "# 關閉資料庫\n",
    "#==========================================================\n",
    "conn.close()"
   ]
  }
 ],
 "metadata": {
  "kernelspec": {
   "display_name": "Python 3.10.0 64-bit ('excel-3.10.0')",
   "language": "python",
   "name": "python3"
  },
  "language_info": {
   "codemirror_mode": {
    "name": "ipython",
    "version": 3
   },
   "file_extension": ".py",
   "mimetype": "text/x-python",
   "name": "python",
   "nbconvert_exporter": "python",
   "pygments_lexer": "ipython3",
   "version": "3.10.0"
  },
  "orig_nbformat": 4,
  "vscode": {
   "interpreter": {
    "hash": "1b569b8cb82cc0b4d93e64a81a8088d32bbb20998db3215c562e2469512179e8"
   }
  }
 },
 "nbformat": 4,
 "nbformat_minor": 2
}
